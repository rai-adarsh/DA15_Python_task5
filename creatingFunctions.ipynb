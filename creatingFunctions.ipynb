{
 "cells": [
  {
   "cell_type": "code",
   "execution_count": null,
   "metadata": {},
   "outputs": [
    {
     "name": "stdout",
     "output_type": "stream",
     "text": [
      "You are eligible to vote.\n"
     ]
    }
   ],
   "source": [
    "def can_vote(age):\n",
    "    \"\"\"Checks if a person is eligible to vote\"\"\"\n",
    "    \n",
    "    if age >= 18:\n",
    "        return \"You are eligible to vote.\"\n",
    "    else:\n",
    "        return \"You are NOT eligible to vote.\"\n",
    "call=can_vote(24)\n",
    "print(call)"
   ]
  },
  {
   "cell_type": "code",
   "execution_count": 27,
   "metadata": {},
   "outputs": [
    {
     "name": "stdout",
     "output_type": "stream",
     "text": [
      "-5 is Negative.\n"
     ]
    }
   ],
   "source": [
    "def check_number_type(number):\n",
    "    \"\"\"Checks if a number is positive, negative, or zero\"\"\"\n",
    "    \n",
    "    if number > 0:\n",
    "        return f\"{number} is Positive.\"\n",
    "    elif number < 0:\n",
    "        return f\"{number} is Negative.\"\n",
    "    else:\n",
    "        return \"The number is Zero.\"\n",
    "number1=int(input(\"enter the number=\"))\n",
    "call1=check_number_type(number1)\n",
    "print(call1)"
   ]
  },
  {
   "cell_type": "code",
   "execution_count": null,
   "metadata": {},
   "outputs": [
    {
     "name": "stdout",
     "output_type": "stream",
     "text": [
      "Wrong guess. Try again!\n",
      "Wrong guess. Try again!\n",
      "Correct! You guessed the number.\n"
     ]
    }
   ],
   "source": [
    "def guess_the_number(correct_number):\n",
    "    \"\"\"Keeps asking the user to guess the number until they guess correctly\"\"\"\n",
    "    \n",
    "    while True:\n",
    "        guess = int(input(\"Guess the number: \"))  \n",
    "\n",
    "        if guess == correct_number:\n",
    "            print(\"Correct! You guessed the number.\")\n",
    "            break  \n",
    "        else:\n",
    "            print( \"Wrong guess. Try again!\")\n",
    "\n",
    "guess_the_number(56)"
   ]
  },
  {
   "cell_type": "code",
   "execution_count": null,
   "metadata": {},
   "outputs": [
    {
     "name": "stdout",
     "output_type": "stream",
     "text": [
      "89.6\n",
      "38.333333333333336\n"
     ]
    }
   ],
   "source": [
    "def convertTemp(temp,unit):\n",
    "    \"\"\"converts temperature in celsius or farhenheit\"\"\"\n",
    "    if unit==\"c\":\n",
    "        return temp * 9/5 +32 \n",
    "    elif unit==\"f\":\n",
    "        return (temp -32) * 5/9 \n",
    "    else:\n",
    "        return \"none\"\n",
    "    \n",
    "output= convertTemp(32,\"c\")\n",
    "output1=convertTemp(101,\"f\")\n",
    "print(output)\n",
    "print(output1)\n",
    "    "
   ]
  },
  {
   "cell_type": "code",
   "execution_count": 35,
   "metadata": {},
   "outputs": [
    {
     "name": "stdout",
     "output_type": "stream",
     "text": [
      "False\n",
      "True\n"
     ]
    }
   ],
   "source": [
    "### password strength checker\n",
    "\n",
    "def is_strong_password(password):\n",
    "    \"\"\"This function checks if the password is strong or not\"\"\"\n",
    "    if len(password)<8:\n",
    "        return False\n",
    "    for char in password:\n",
    "        if char.isdigit():\n",
    "            break\n",
    "    else:\n",
    "        return  False\n",
    "\n",
    "    for char in password:\n",
    "        if char.islower():\n",
    "            break\n",
    "    else:\n",
    "        return False\n",
    "    for char in password:\n",
    "        if char.isupper():\n",
    "            break\n",
    "    else:\n",
    "        return False\n",
    "\n",
    "    for char in password:\n",
    "        if char in '!@#$%^&*()_+':\n",
    "         break\n",
    "    else:\n",
    "        return False\n",
    "    return True\n",
    "\n",
    "password1=is_strong_password(\"WeakPwd\")\n",
    "password2=is_strong_password(\"Str0ngPwd!\")\n",
    "print(password1)\n",
    "print(password2)"
   ]
  },
  {
   "cell_type": "code",
   "execution_count": null,
   "metadata": {},
   "outputs": [
    {
     "name": "stdout",
     "output_type": "stream",
     "text": [
      "5.8999999999999995\n"
     ]
    }
   ],
   "source": [
    "def calculate_total_cost(cart):\n",
    "    total_cost=0\n",
    "   \n",
    "    for item in cart:\n",
    "        total_cost+=item['price']* item['quantity']\n",
    "      \n",
    "        \n",
    "\n",
    "    return total_cost\n",
    "\n",
    "\n",
    "\n",
    "cart=[\n",
    "    {'name':'Apple','price':0.5,'quantity':4},\n",
    "    {'name':'Banana','price':0.3,'quantity':6},\n",
    "    {'name':'Orange','price':0.7,'quantity':3}\n",
    "    ]\n",
    "\n",
    "\n",
    "total_cost=calculate_total_cost(cart)\n",
    "print(total_cost)"
   ]
  },
  {
   "cell_type": "code",
   "execution_count": 20,
   "metadata": {},
   "outputs": [
    {
     "name": "stdout",
     "output_type": "stream",
     "text": [
      "True\n",
      "False\n"
     ]
    }
   ],
   "source": [
    "def is_palindrome(s):\n",
    "    \"\"\"this fuction checks that a given string is palindrome or not\"\"\"\n",
    "    s=s.lower().replace(\" \",\"\")   #string methods\n",
    "    return s==s[::-1]\n",
    "\n",
    "val1=is_palindrome(\"A man a plan a canal Panama\")\n",
    "val2=is_palindrome(\"Hello\")\n",
    "\n",
    "print(val1)\n",
    "print(val2)"
   ]
  },
  {
   "cell_type": "code",
   "execution_count": 38,
   "metadata": {},
   "outputs": [
    {
     "name": "stdout",
     "output_type": "stream",
     "text": [
      " Milk is in the list.\n",
      " Butter is NOT in the list.\n"
     ]
    }
   ],
   "source": [
    "def check_item_exists(item_list, item):\n",
    "    \"\"\"Checks if an item exists in the list\"\"\"\n",
    "    if item in item_list:\n",
    "        return f\" {item} is in the list.\"\n",
    "    else:\n",
    "        return f\" {item} is NOT in the list.\"\n",
    "    \n",
    "\n",
    "groceries = [\"Milk\", \"Eggs\", \"Bread\", \"Bananas\", \"Apples\"]\n",
    "\n",
    "call28= check_item_exists(groceries, \"Milk\")\n",
    "call29= check_item_exists(groceries, \"Butter\")\n",
    "\n",
    "print(call28)  \n",
    "print(call29) \n",
    "\n",
    "\n"
   ]
  },
  {
   "cell_type": "code",
   "execution_count": null,
   "metadata": {},
   "outputs": [
    {
     "name": "stdout",
     "output_type": "stream",
     "text": [
      "The largest number is 99.\n"
     ]
    }
   ],
   "source": [
    "def find_largest_number(numbers):\n",
    "    \"\"\"Finds the largest number in the list.\"\"\"\n",
    "    if len(numbers) == 0:\n",
    "        return \"The list is empty.\"\n",
    "    else:\n",
    "        largest = numbers[0]  \n",
    "        for num in numbers:\n",
    "            if num > largest:\n",
    "                largest = num  \n",
    "        return f\"The largest number is {largest}.\"\n",
    "\n",
    "numbers = [10, 25, 38, 42, 5, 99, 14]\n",
    "call25= find_largest_number(numbers)\n",
    "print(call25)"
   ]
  },
  {
   "cell_type": "code",
   "execution_count": 37,
   "metadata": {},
   "outputs": [
    {
     "name": "stdout",
     "output_type": "stream",
     "text": [
      "adarsh grade is A.\n",
      "Student 'sagar' not found.\n"
     ]
    }
   ],
   "source": [
    "def get_student_grade(students, name):\n",
    "    \"\"\"Retrieves the grade of a student from the dictionary\"\"\"\n",
    "   \n",
    "    if name in students:\n",
    "        return f\"{name} grade is {students[name]}.\"\n",
    "    else:\n",
    "        return f\"Student '{name}' not found.\"\n",
    "\n",
    "student_grades = {\n",
    "    \"adarsh\": \"A\",\n",
    "    \"prateek\": \"B+\",\n",
    "    \"anshul\": \"A-\",\n",
    "    \"rahul\": \"C\"\n",
    "}\n",
    "\n",
    "call26= get_student_grade(student_grades, \"adarsh\")\n",
    "call27= get_student_grade(student_grades, \"sagar\")\n",
    "print(call26)   \n",
    "print(call27)"
   ]
  },
  {
   "cell_type": "code",
   "execution_count": null,
   "metadata": {},
   "outputs": [],
   "source": []
  }
 ],
 "metadata": {
  "kernelspec": {
   "display_name": "Python 3",
   "language": "python",
   "name": "python3"
  },
  "language_info": {
   "codemirror_mode": {
    "name": "ipython",
    "version": 3
   },
   "file_extension": ".py",
   "mimetype": "text/x-python",
   "name": "python",
   "nbconvert_exporter": "python",
   "pygments_lexer": "ipython3",
   "version": "3.13.1"
  }
 },
 "nbformat": 4,
 "nbformat_minor": 2
}
